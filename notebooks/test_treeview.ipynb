{
 "cells": [
  {
   "cell_type": "code",
   "execution_count": 1,
   "metadata": {},
   "outputs": [],
   "source": [
    "from IPython.display import display, clear_output\n",
    "import ipywidgets\n",
    "import ipyvuetify as v\n",
    "import traitlets\n",
    "from traitlets import Int, Float, Unicode, Bool\n",
    "\n",
    "import pandas as pd\n",
    "import json"
   ]
  },
  {
   "cell_type": "code",
   "execution_count": 2,
   "metadata": {},
   "outputs": [],
   "source": [
    "# class Model(traitlets.HasTraits):\n",
    "#     search = traitlets.Unicode('').tag(sync=True)\n",
    "    \n",
    "# model=Model()"
   ]
  },
  {
   "cell_type": "code",
   "execution_count": 3,
   "metadata": {},
   "outputs": [],
   "source": [
    "item_dct={'id':1,'name':'ABC','children':[{'id':11,'name':'D'},{'id':12,'name':'E'}]}\n",
    "item=json.dumps(item_dct)\n",
    "tv=v.Treeview(items=[item_dct],\n",
    "              #activatable=True,\n",
    "              return_object=True,\n",
    "              selectable=True)\n",
    "\n",
    "def tv_on_input(widget, event, data):\n",
    "    print (data)\n",
    "tv.on_event('input',tv_on_input)\n"
   ]
  },
  {
   "cell_type": "code",
   "execution_count": 4,
   "metadata": {},
   "outputs": [],
   "source": [
    "search_textfield=v.TextField(label=\"Search\",v_model=\"search\")\n",
    "lnk1=traitlets.link((tv, 'search'), (search_textfield, 'v_model'))"
   ]
  },
  {
   "cell_type": "code",
   "execution_count": 5,
   "metadata": {},
   "outputs": [
    {
     "data": {
      "application/vnd.jupyter.widget-view+json": {
       "model_id": "1f9bb4e49eb64442bd88b6bd9ecfdf90",
       "version_major": 2,
       "version_minor": 0
      },
      "text/plain": [
       "App(children=[TextField(label='Search', v_model=None), Treeview(items=[{'id': 1, 'name': 'ABC', 'children': [{…"
      ]
     },
     "metadata": {},
     "output_type": "display_data"
    },
    {
     "name": "stdout",
     "output_type": "stream",
     "text": [
      "[{'id': 11, 'name': 'D'}]\n",
      "[]\n",
      "[{'id': 12, 'name': 'E'}]\n",
      "[]\n"
     ]
    }
   ],
   "source": [
    "v.App(\n",
    "children=[\n",
    "search_textfield,\n",
    "tv\n",
    "    ])"
   ]
  }
 ],
 "metadata": {
  "kernelspec": {
   "display_name": "Python 3",
   "language": "python",
   "name": "python3"
  },
  "language_info": {
   "codemirror_mode": {
    "name": "ipython",
    "version": 3
   },
   "file_extension": ".py",
   "mimetype": "text/x-python",
   "name": "python",
   "nbconvert_exporter": "python",
   "pygments_lexer": "ipython3",
   "version": "3.6.5"
  }
 },
 "nbformat": 4,
 "nbformat_minor": 2
}
